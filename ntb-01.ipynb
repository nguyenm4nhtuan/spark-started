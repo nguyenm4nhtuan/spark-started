{
 "cells": [
  {
   "cell_type": "code",
   "execution_count": 23,
   "id": "initial_id",
   "metadata": {
    "ExecuteTime": {
     "end_time": "2025-06-02T07:33:52.775313Z",
     "start_time": "2025-06-02T07:33:52.404392Z"
    },
    "collapsed": true
   },
   "outputs": [],
   "source": [
    "from pyspark.sql import SparkSession\n",
    "\n",
    "spark = SparkSession.builder \\\n",
    "    .appName(\"Spark Catalog Inmemory\") \\\n",
    "    .master(\"local[*]\") \\\n",
    "    .config(\"spark.sql.extensions\", \"io.delta.sql.DeltaSparkSessionExtension\") \\\n",
    "    .config(\"spark.sql.catalog.spark_catalog\", \"org.apache.spark.sql.delta.catalog.DeltaCatalog\") \\\n",
    "    .config(\"spark.sql.warehouse.dir\", \"file:///home/tuannm2/codes/spark-started/spark-warehouse/sp-ctl\") \\\n",
    "    .getOrCreate()"
   ]
  },
  {
   "cell_type": "code",
   "execution_count": 27,
   "id": "c1516b23",
   "metadata": {},
   "outputs": [],
   "source": [
    "spark.stop()\n"
   ]
  },
  {
   "cell_type": "code",
   "execution_count": 24,
   "id": "ea6c0ec2",
   "metadata": {},
   "outputs": [
    {
     "name": "stdout",
     "output_type": "stream",
     "text": [
      "+---------+---------+-----------+\n",
      "|namespace|tableName|isTemporary|\n",
      "+---------+---------+-----------+\n",
      "+---------+---------+-----------+\n",
      "\n"
     ]
    }
   ],
   "source": [
    "spark.sql(\"show tables\").show()"
   ]
  },
  {
   "cell_type": "code",
   "execution_count": 25,
   "id": "78f02f27f84a44e9",
   "metadata": {
    "ExecuteTime": {
     "end_time": "2025-06-02T07:34:43.101663Z",
     "start_time": "2025-06-02T07:34:41.571808Z"
    }
   },
   "outputs": [],
   "source": [
    "data = [(\"Alice\", 30), (\"Bob\", 25)]\n",
    "df = spark.createDataFrame(data, [\"name\", \"age\"])"
   ]
  },
  {
   "cell_type": "code",
   "execution_count": 5,
   "id": "29e00502",
   "metadata": {},
   "outputs": [],
   "source": [
    "# Ghi dưới định dạng Delta\n",
    "df.write.format(\"parquet\").mode(\"overwrite\").save(\"parquet_files\")"
   ]
  },
  {
   "cell_type": "code",
   "execution_count": 4,
   "id": "689b386c",
   "metadata": {},
   "outputs": [
    {
     "name": "stderr",
     "output_type": "stream",
     "text": [
      "25/06/05 12:08:33 WARN SparkStringUtils: Truncated the string representation of a plan since it was too large. This behavior can be adjusted by setting 'spark.sql.debug.maxToStringFields'.\n",
      "                                                                                \r"
     ]
    }
   ],
   "source": [
    "# Ghi dưới định dạng Delta\n",
    "df.write.format(\"delta\").mode(\"overwrite\").save(\"delta_files\")"
   ]
  },
  {
   "cell_type": "code",
   "execution_count": 26,
   "id": "101fb037",
   "metadata": {},
   "outputs": [],
   "source": [
    "df.write.format(\"delta\").mode(\"overwrite\").saveAsTable(\"dt_users\")"
   ]
  },
  {
   "cell_type": "code",
   "execution_count": 21,
   "id": "ec4fad502249c8c5",
   "metadata": {
    "ExecuteTime": {
     "end_time": "2025-06-02T07:35:11.565937Z",
     "start_time": "2025-06-02T07:35:11.389757Z"
    }
   },
   "outputs": [
    {
     "data": {
      "text/plain": [
       "[Row(name='Bob', age=25)]"
      ]
     },
     "execution_count": 21,
     "metadata": {},
     "output_type": "execute_result"
    }
   ],
   "source": [
    "# Đọc lại\n",
    "df1 = spark.read.table(\"dt_users\")\n",
    "df1.take(1)\n"
   ]
  }
 ],
 "metadata": {
  "kernelspec": {
   "display_name": ".venv",
   "language": "python",
   "name": "python3"
  },
  "language_info": {
   "codemirror_mode": {
    "name": "ipython",
    "version": 3
   },
   "file_extension": ".py",
   "mimetype": "text/x-python",
   "name": "python",
   "nbconvert_exporter": "python",
   "pygments_lexer": "ipython3",
   "version": "3.8.16"
  }
 },
 "nbformat": 4,
 "nbformat_minor": 5
}
